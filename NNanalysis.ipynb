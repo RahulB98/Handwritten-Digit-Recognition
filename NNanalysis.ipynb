{
 "cells": [
  {
   "cell_type": "markdown",
   "source": [
    "# Aim:\r\n",
    "## To find the best combination for number of Hidden layers and Activation Functions using\r\n",
    "###  Linear and \r\n",
    "### Non-Linear Functions"
   ],
   "metadata": {}
  },
  {
   "cell_type": "code",
   "execution_count": 1,
   "source": [
    "import numpy as np\r\n",
    "import pandas as pd \r\n",
    "import tensorflow as tf\r\n",
    "from tensorflow import keras\r\n",
    "import matplotlib.pyplot as plt "
   ],
   "outputs": [],
   "metadata": {}
  },
  {
   "cell_type": "code",
   "execution_count": 2,
   "source": [
    "(x_train,y_train),(x_test,y_test) = keras.datasets.mnist.load_data()\r\n",
    "print(\"size: \",x_train.shape)\r\n",
    "\r\n",
    "#Scaling the obtained values for better accuracy\r\n",
    "x_train = x_train/255\r\n",
    "x_test = x_test/255\r\n",
    "#converting 2D array into an 1D array using pandas function\r\n",
    "x_train_flattened = x_train.reshape(len(x_train), 28*28) \r\n",
    "x_test_flattened = x_test.reshape(len(x_test), 28*28)\r\n",
    "print(\"shapes: \",x_train_flattened.shape, x_test_flattened.shape)\r\n"
   ],
   "outputs": [
    {
     "output_type": "stream",
     "name": "stdout",
     "text": [
      "size:  (60000, 28, 28)\n",
      "shapes:  (60000, 784) (10000, 784)\n"
     ]
    }
   ],
   "metadata": {}
  },
  {
   "cell_type": "code",
   "execution_count": 3,
   "source": [
    "def myLinear(x):\r\n",
    "    return x"
   ],
   "outputs": [],
   "metadata": {}
  },
  {
   "cell_type": "markdown",
   "source": [
    "## Single Layer model with Linear function"
   ],
   "metadata": {}
  },
  {
   "cell_type": "code",
   "execution_count": 4,
   "source": [
    "#Sequentila means stack of layers\r\n",
    "#Dense means that the every neuron in the layer is connected to every neuron in the forwawrd layer\r\n",
    "simple_model = keras.Sequential([\r\n",
    "    keras.layers.Dense(10, input_shape=(784,), activation=myLinear)\r\n",
    "])\r\n",
    "\r\n",
    "#Compiling the neural network model using Adaptive movement Estimation algorithm; adam\r\n",
    "simple_model.compile(optimizer='adam', \r\n",
    "    loss='sparse_categorical_crossentropy',\r\n",
    "    metrics=['accuracy']\r\n",
    ")\r\n",
    "\r\n",
    "#training the model 5 times using the training data set\r\n",
    "simple_model.fit(x_train_flattened,y_train,epochs=5)"
   ],
   "outputs": [
    {
     "output_type": "stream",
     "name": "stdout",
     "text": [
      "Epoch 1/5\n",
      "1875/1875 [==============================] - 6s 2ms/step - loss: 2.2457 - accuracy: 0.3946\n",
      "Epoch 2/5\n",
      "1875/1875 [==============================] - 5s 2ms/step - loss: 2.1605 - accuracy: 0.3744\n",
      "Epoch 3/5\n",
      "1875/1875 [==============================] - 4s 2ms/step - loss: 2.1749 - accuracy: 0.3386\n",
      "Epoch 4/5\n",
      "1875/1875 [==============================] - 4s 2ms/step - loss: 2.1850 - accuracy: 0.3348\n",
      "Epoch 5/5\n",
      "1875/1875 [==============================] - 5s 3ms/step - loss: 2.1641 - accuracy: 0.3375\n"
     ]
    },
    {
     "output_type": "execute_result",
     "data": {
      "text/plain": [
       "<tensorflow.python.keras.callbacks.History at 0x218858dbc70>"
      ]
     },
     "metadata": {},
     "execution_count": 4
    }
   ],
   "metadata": {}
  },
  {
   "cell_type": "markdown",
   "source": [
    "## Two Layered Network with all Linear activation Functiuons"
   ],
   "metadata": {}
  },
  {
   "cell_type": "code",
   "execution_count": 5,
   "source": [
    "#Dense means that the every neuron in the layer is connected to every neuron in the forwawrd layer\r\n",
    "simple_model = keras.Sequential([\r\n",
    "    keras.layers.Dense(100,input_shape=(784,),activation=myLinear),\r\n",
    "    keras.layers.Dense(10, activation=myLinear)\r\n",
    "])\r\n",
    "\r\n",
    "#Compiling the neural network model using Adaptive movement Estimation algorithm; adam\r\n",
    "simple_model.compile(optimizer='adam', \r\n",
    "    loss='sparse_categorical_crossentropy',\r\n",
    "    metrics=['accuracy']\r\n",
    ")\r\n",
    "\r\n",
    "#training the model 5 times using the training data set\r\n",
    "simple_model.fit(x_train_flattened,y_train,epochs=5)"
   ],
   "outputs": [
    {
     "output_type": "stream",
     "name": "stdout",
     "text": [
      "Epoch 1/5\n",
      "1875/1875 [==============================] - 5s 2ms/step - loss: 2.1863 - accuracy: 0.5574\n",
      "Epoch 2/5\n",
      "1875/1875 [==============================] - 4s 2ms/step - loss: 2.1914 - accuracy: 0.5036\n",
      "Epoch 3/5\n",
      "1875/1875 [==============================] - 3s 2ms/step - loss: 2.2106 - accuracy: 0.4254\n",
      "Epoch 4/5\n",
      "1875/1875 [==============================] - 3s 2ms/step - loss: 2.2019 - accuracy: 0.2751\n",
      "Epoch 5/5\n",
      "1875/1875 [==============================] - 3s 2ms/step - loss: 2.1814 - accuracy: 0.2872\n"
     ]
    },
    {
     "output_type": "execute_result",
     "data": {
      "text/plain": [
       "<tensorflow.python.keras.callbacks.History at 0x21887add550>"
      ]
     },
     "metadata": {},
     "execution_count": 5
    }
   ],
   "metadata": {}
  },
  {
   "cell_type": "markdown",
   "source": [
    "## Network with Non-Linear hidden layer and Linear Output layer"
   ],
   "metadata": {}
  },
  {
   "cell_type": "code",
   "execution_count": 6,
   "source": [
    "simple_model = keras.Sequential([\r\n",
    "    keras.layers.Dense(100,input_shape=(784,),activation='sigmoid'),\r\n",
    "    keras.layers.Dense(10, activation=myLinear)\r\n",
    "])\r\n",
    "\r\n",
    "#Compiling the neural network model using Adaptive movement Estimation algorithm; adam\r\n",
    "simple_model.compile(optimizer='adam', \r\n",
    "    loss='sparse_categorical_crossentropy',\r\n",
    "    metrics=['accuracy']\r\n",
    ")\r\n",
    "\r\n",
    "#training the model 5 times using the training data set\r\n",
    "simple_model.fit(x_train_flattened,y_train,epochs=5)"
   ],
   "outputs": [
    {
     "output_type": "stream",
     "name": "stdout",
     "text": [
      "Epoch 1/5\n",
      "1875/1875 [==============================] - 4s 2ms/step - loss: 2.3274 - accuracy: 0.2558\n",
      "Epoch 2/5\n",
      "1875/1875 [==============================] - 4s 2ms/step - loss: 2.2656 - accuracy: 0.2163\n",
      "Epoch 3/5\n",
      "1875/1875 [==============================] - 3s 2ms/step - loss: 2.2108 - accuracy: 0.1575\n",
      "Epoch 4/5\n",
      "1875/1875 [==============================] - 4s 2ms/step - loss: 2.2146 - accuracy: 0.1425\n",
      "Epoch 5/5\n",
      "1875/1875 [==============================] - 4s 2ms/step - loss: 2.2343 - accuracy: 0.1329\n"
     ]
    },
    {
     "output_type": "execute_result",
     "data": {
      "text/plain": [
       "<tensorflow.python.keras.callbacks.History at 0x218c34bd670>"
      ]
     },
     "metadata": {},
     "execution_count": 6
    }
   ],
   "metadata": {}
  },
  {
   "cell_type": "markdown",
   "source": [
    "# Three Layered Network \r\n",
    "## Non-Linear : Linear : Linear(OUTPUT)"
   ],
   "metadata": {}
  },
  {
   "cell_type": "code",
   "execution_count": 7,
   "source": [
    "#adding hidden layer to improve perforance\r\n",
    "hidden_layered_model = keras.Sequential([\r\n",
    "    keras.layers.Flatten(input_shape=(28,28)), #for not having to use flattened array\r\n",
    "    keras.layers.Dense(364,activation='sigmoid'),\r\n",
    "    keras.layers.Dense(184,activation=myLinear),\r\n",
    "    keras.layers.Dense(10, activation=myLinear)\r\n",
    "])\r\n",
    "\r\n",
    "hidden_layered_model.compile(optimizer='adam', \r\n",
    "    loss='sparse_categorical_crossentropy',\r\n",
    "    metrics=['accuracy']\r\n",
    ")\r\n",
    "\r\n",
    "hidden_layered_model.fit(x_train,y_train,epochs=5)"
   ],
   "outputs": [
    {
     "output_type": "stream",
     "name": "stdout",
     "text": [
      "Epoch 1/5\n",
      "1875/1875 [==============================] - 5s 2ms/step - loss: 2.3147 - accuracy: 0.0984\n",
      "Epoch 2/5\n",
      "1875/1875 [==============================] - 4s 2ms/step - loss: 2.3026 - accuracy: 0.0981\n",
      "Epoch 3/5\n",
      "1875/1875 [==============================] - 4s 2ms/step - loss: 2.3026 - accuracy: 0.0981\n",
      "Epoch 4/5\n",
      "1875/1875 [==============================] - 4s 2ms/step - loss: 2.3026 - accuracy: 0.0981\n",
      "Epoch 5/5\n",
      "1875/1875 [==============================] - 4s 2ms/step - loss: 2.3026 - accuracy: 0.0981\n"
     ]
    },
    {
     "output_type": "execute_result",
     "data": {
      "text/plain": [
       "<tensorflow.python.keras.callbacks.History at 0x219ec385a60>"
      ]
     },
     "metadata": {},
     "execution_count": 7
    }
   ],
   "metadata": {}
  },
  {
   "cell_type": "markdown",
   "source": [
    "## Linear : Non-Linear : Linear(OUTPUT)"
   ],
   "metadata": {}
  },
  {
   "cell_type": "code",
   "execution_count": 8,
   "source": [
    "#adding hidden layer to improve perforance\r\n",
    "hidden_layered_model = keras.Sequential([\r\n",
    "    keras.layers.Flatten(input_shape=(28,28)), #for not having to use flattened array\r\n",
    "    keras.layers.Dense(364,activation=myLinear),\r\n",
    "    keras.layers.Dense(184,activation='sigmoid'),\r\n",
    "    keras.layers.Dense(10, activation=myLinear)\r\n",
    "])\r\n",
    "\r\n",
    "hidden_layered_model.compile(optimizer='adam', \r\n",
    "    loss='sparse_categorical_crossentropy',\r\n",
    "    metrics=['accuracy']\r\n",
    ")\r\n",
    "\r\n",
    "hidden_layered_model.fit(x_train,y_train,epochs=5)"
   ],
   "outputs": [
    {
     "output_type": "stream",
     "name": "stdout",
     "text": [
      "Epoch 1/5\n",
      "1875/1875 [==============================] - 5s 2ms/step - loss: 2.3290 - accuracy: 0.1435\n",
      "Epoch 2/5\n",
      "1875/1875 [==============================] - 4s 2ms/step - loss: 2.3026 - accuracy: 0.1464\n",
      "Epoch 3/5\n",
      "1875/1875 [==============================] - 5s 3ms/step - loss: 2.3026 - accuracy: 0.1464\n",
      "Epoch 4/5\n",
      "1875/1875 [==============================] - 5s 2ms/step - loss: 2.3026 - accuracy: 0.1464\n",
      "Epoch 5/5\n",
      "1875/1875 [==============================] - 4s 2ms/step - loss: 2.3026 - accuracy: 0.1464\n"
     ]
    },
    {
     "output_type": "execute_result",
     "data": {
      "text/plain": [
       "<tensorflow.python.keras.callbacks.History at 0x219ce428ac0>"
      ]
     },
     "metadata": {},
     "execution_count": 8
    }
   ],
   "metadata": {}
  },
  {
   "cell_type": "markdown",
   "source": [
    "## Linear : Linear : Non-Linear(OUTPUT)"
   ],
   "metadata": {}
  },
  {
   "cell_type": "code",
   "execution_count": 9,
   "source": [
    "#adding hidden layer to improve perforance\r\n",
    "hidden_layered_model = keras.Sequential([\r\n",
    "    keras.layers.Flatten(input_shape=(28,28)), #for not having to use flattened array\r\n",
    "    keras.layers.Dense(364,activation=myLinear),\r\n",
    "    keras.layers.Dense(184,activation=myLinear),\r\n",
    "    keras.layers.Dense(10, activation='sigmoid')\r\n",
    "])\r\n",
    "\r\n",
    "hidden_layered_model.compile(optimizer='adam', \r\n",
    "    loss='sparse_categorical_crossentropy',\r\n",
    "    metrics=['accuracy']\r\n",
    ")\r\n",
    "\r\n",
    "hidden_layered_model.fit(x_train,y_train,epochs=5)"
   ],
   "outputs": [
    {
     "output_type": "stream",
     "name": "stdout",
     "text": [
      "Epoch 1/5\n",
      "1875/1875 [==============================] - 4s 2ms/step - loss: 0.3951 - accuracy: 0.8864\n",
      "Epoch 2/5\n",
      "1875/1875 [==============================] - 3s 2ms/step - loss: 0.3339 - accuracy: 0.9060\n",
      "Epoch 3/5\n",
      "1875/1875 [==============================] - 3s 2ms/step - loss: 0.3175 - accuracy: 0.9111\n",
      "Epoch 4/5\n",
      "1875/1875 [==============================] - 3s 2ms/step - loss: 0.3052 - accuracy: 0.9127\n",
      "Epoch 5/5\n",
      "1875/1875 [==============================] - 4s 2ms/step - loss: 0.3002 - accuracy: 0.9154\n"
     ]
    },
    {
     "output_type": "execute_result",
     "data": {
      "text/plain": [
       "<tensorflow.python.keras.callbacks.History at 0x219ce710e20>"
      ]
     },
     "metadata": {},
     "execution_count": 9
    }
   ],
   "metadata": {}
  },
  {
   "cell_type": "markdown",
   "source": [
    "## Non-Linear : Linear : Non-Linear(OUTPUT)"
   ],
   "metadata": {}
  },
  {
   "cell_type": "code",
   "execution_count": 10,
   "source": [
    "#adding hidden layer to improve perforance\r\n",
    "hidden_layered_model = keras.Sequential([\r\n",
    "    keras.layers.Flatten(input_shape=(28,28)), #for not having to use flattened array\r\n",
    "    keras.layers.Dense(364,activation='sigmoid'),\r\n",
    "    keras.layers.Dense(184,activation=myLinear),\r\n",
    "    keras.layers.Dense(10, activation='sigmoid')\r\n",
    "])\r\n",
    "\r\n",
    "hidden_layered_model.compile(optimizer='adam', \r\n",
    "    loss='sparse_categorical_crossentropy',\r\n",
    "    metrics=['accuracy']\r\n",
    ")\r\n",
    "\r\n",
    "hidden_layered_model.fit(x_train,y_train,epochs=5)"
   ],
   "outputs": [
    {
     "output_type": "stream",
     "name": "stdout",
     "text": [
      "Epoch 1/5\n",
      "1875/1875 [==============================] - 4s 2ms/step - loss: 0.3271 - accuracy: 0.9022\n",
      "Epoch 2/5\n",
      "1875/1875 [==============================] - 4s 2ms/step - loss: 0.1408 - accuracy: 0.9577\n",
      "Epoch 3/5\n",
      "1875/1875 [==============================] - 4s 2ms/step - loss: 0.0906 - accuracy: 0.9725\n",
      "Epoch 4/5\n",
      "1875/1875 [==============================] - 4s 2ms/step - loss: 0.0638 - accuracy: 0.9790\n",
      "Epoch 5/5\n",
      "1875/1875 [==============================] - 4s 2ms/step - loss: 0.0482 - accuracy: 0.9841\n"
     ]
    },
    {
     "output_type": "execute_result",
     "data": {
      "text/plain": [
       "<tensorflow.python.keras.callbacks.History at 0x219ce9cd340>"
      ]
     },
     "metadata": {},
     "execution_count": 10
    }
   ],
   "metadata": {}
  },
  {
   "cell_type": "markdown",
   "source": [
    "## Linear : Non-Linear : Non-Linear(OUTPUT)"
   ],
   "metadata": {}
  },
  {
   "cell_type": "code",
   "execution_count": 11,
   "source": [
    "#adding hidden layer to improve perforance\r\n",
    "hidden_layered_model = keras.Sequential([\r\n",
    "    keras.layers.Flatten(input_shape=(28,28)), #for not having to use flattened array\r\n",
    "    keras.layers.Dense(364,activation=myLinear),\r\n",
    "    keras.layers.Dense(184,activation='sigmoid'),\r\n",
    "    keras.layers.Dense(10, activation='sigmoid')\r\n",
    "])\r\n",
    "\r\n",
    "hidden_layered_model.compile(optimizer='adam', \r\n",
    "    loss='sparse_categorical_crossentropy',\r\n",
    "    metrics=['accuracy']\r\n",
    ")\r\n",
    "\r\n",
    "hidden_layered_model.fit(x_train,y_train,epochs=5)"
   ],
   "outputs": [
    {
     "output_type": "stream",
     "name": "stdout",
     "text": [
      "Epoch 1/5\n",
      "1875/1875 [==============================] - 4s 2ms/step - loss: 0.2855 - accuracy: 0.9177\n",
      "Epoch 2/5\n",
      "1875/1875 [==============================] - 3s 2ms/step - loss: 0.1550 - accuracy: 0.9533\n",
      "Epoch 3/5\n",
      "1875/1875 [==============================] - 3s 2ms/step - loss: 0.1200 - accuracy: 0.9642\n",
      "Epoch 4/5\n",
      "1875/1875 [==============================] - 4s 2ms/step - loss: 0.1016 - accuracy: 0.9696\n",
      "Epoch 5/5\n",
      "1875/1875 [==============================] - 4s 2ms/step - loss: 0.0889 - accuracy: 0.9720\n"
     ]
    },
    {
     "output_type": "execute_result",
     "data": {
      "text/plain": [
       "<tensorflow.python.keras.callbacks.History at 0x219cfc73f70>"
      ]
     },
     "metadata": {},
     "execution_count": 11
    }
   ],
   "metadata": {}
  },
  {
   "cell_type": "markdown",
   "source": [
    "## Non-Linear : Non-Linear : Linear(OUTPUT)"
   ],
   "metadata": {}
  },
  {
   "cell_type": "code",
   "execution_count": 12,
   "source": [
    "#adding hidden layer to improve perforance\r\n",
    "hidden_layered_model = keras.Sequential([\r\n",
    "    keras.layers.Flatten(input_shape=(28,28)), #for not having to use flattened array\r\n",
    "    keras.layers.Dense(364,activation='sigmoid'),\r\n",
    "    keras.layers.Dense(184,activation='sigmoid'),\r\n",
    "    keras.layers.Dense(10, activation=myLinear)\r\n",
    "])\r\n",
    "\r\n",
    "hidden_layered_model.compile(optimizer='adam', \r\n",
    "    loss='sparse_categorical_crossentropy',\r\n",
    "    metrics=['accuracy']\r\n",
    ")\r\n",
    "\r\n",
    "hidden_layered_model.fit(x_train,y_train,epochs=5)"
   ],
   "outputs": [
    {
     "output_type": "stream",
     "name": "stdout",
     "text": [
      "Epoch 1/5\n",
      "1875/1875 [==============================] - 4s 2ms/step - loss: 6.5822 - accuracy: 0.1185\n",
      "Epoch 2/5\n",
      "1875/1875 [==============================] - 4s 2ms/step - loss: 6.6821 - accuracy: 0.1186\n",
      "Epoch 3/5\n",
      "1875/1875 [==============================] - 4s 2ms/step - loss: 6.8422 - accuracy: 0.1740\n",
      "Epoch 4/5\n",
      "1875/1875 [==============================] - 4s 2ms/step - loss: 6.8278 - accuracy: 0.1780\n",
      "Epoch 5/5\n",
      "1875/1875 [==============================] - 4s 2ms/step - loss: 6.7887 - accuracy: 0.1129\n"
     ]
    },
    {
     "output_type": "execute_result",
     "data": {
      "text/plain": [
       "<tensorflow.python.keras.callbacks.History at 0x219cff23a30>"
      ]
     },
     "metadata": {},
     "execution_count": 12
    }
   ],
   "metadata": {}
  },
  {
   "cell_type": "markdown",
   "source": [
    "## All Non-Linear Layers"
   ],
   "metadata": {}
  },
  {
   "cell_type": "code",
   "execution_count": 13,
   "source": [
    "#adding hidden layer to improve perforance\r\n",
    "hidden_layered_model = keras.Sequential([\r\n",
    "    keras.layers.Flatten(input_shape=(28,28)), #for not having to use flattened array\r\n",
    "    keras.layers.Dense(364,activation='sigmoid'),\r\n",
    "    keras.layers.Dense(184,activation='sigmoid'),\r\n",
    "    keras.layers.Dense(10, activation='sigmoid')\r\n",
    "])\r\n",
    "\r\n",
    "hidden_layered_model.compile(optimizer='adam', \r\n",
    "    loss='sparse_categorical_crossentropy',\r\n",
    "    metrics=['accuracy']\r\n",
    ")\r\n",
    "\r\n",
    "hidden_layered_model.fit(x_train,y_train,epochs=5)"
   ],
   "outputs": [
    {
     "output_type": "stream",
     "name": "stdout",
     "text": [
      "Epoch 1/5\n",
      "1875/1875 [==============================] - 4s 2ms/step - loss: 0.3553 - accuracy: 0.8979\n",
      "Epoch 2/5\n",
      "1875/1875 [==============================] - 4s 2ms/step - loss: 0.1483 - accuracy: 0.9557\n",
      "Epoch 3/5\n",
      "1875/1875 [==============================] - 4s 2ms/step - loss: 0.0972 - accuracy: 0.9704\n",
      "Epoch 4/5\n",
      "1875/1875 [==============================] - 4s 2ms/step - loss: 0.0685 - accuracy: 0.9788\n",
      "Epoch 5/5\n",
      "1875/1875 [==============================] - 4s 2ms/step - loss: 0.0507 - accuracy: 0.9842\n"
     ]
    },
    {
     "output_type": "execute_result",
     "data": {
      "text/plain": [
       "<tensorflow.python.keras.callbacks.History at 0x219d01d7d00>"
      ]
     },
     "metadata": {},
     "execution_count": 13
    }
   ],
   "metadata": {}
  },
  {
   "cell_type": "markdown",
   "source": [
    "# Conclusion\r\n",
    "## The best Combinations for Layers and Activation Function are :\r\n",
    "1. Non-Linear hiddden layer + Linear Hidden layer + Non-Linear Output layer: accuracy = 98.42%\r\n",
    "2. All Non-Linear Layer: accuracy = 92.42%  "
   ],
   "metadata": {}
  }
 ],
 "metadata": {
  "orig_nbformat": 4,
  "language_info": {
   "name": "python",
   "version": "3.8.10",
   "mimetype": "text/x-python",
   "codemirror_mode": {
    "name": "ipython",
    "version": 3
   },
   "pygments_lexer": "ipython3",
   "nbconvert_exporter": "python",
   "file_extension": ".py"
  },
  "kernelspec": {
   "name": "python3",
   "display_name": "Python 3.8.10 64-bit"
  },
  "interpreter": {
   "hash": "c12305e7ff96984ae45fb332503760a12e51630ffe3297ffad5e6f296459cc40"
  }
 },
 "nbformat": 4,
 "nbformat_minor": 2
}